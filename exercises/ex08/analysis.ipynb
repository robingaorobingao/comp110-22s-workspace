{
 "cells": [
  {
   "cell_type": "markdown",
   "metadata": {},
   "source": [
    "# Analysis for Continuous Improvement\n",
    "\n",
    "Author Name: Robin Gao\n",
    "\n",
    "9-digit PID: 730406932\n",
    "\n",
    "Continuous Improvement embraces a belief there is _always room to make things better_. It is a mindset and process we value and practice in this course. In this assignment, you are able to practice continuous improvement and contribute to the design ideas of the course.\n",
    "\n",
    "## Brainstorming Ideas\n",
    "\n",
    "Reflect on your personal experiences and observations in COMP110 and **brainstorm modifications to the course that _create value_ beyond its current design**. When brainstorming, try not to be critical of the ideas you come up with regarding scale, stakeholders impacted, or for any other reasons. In the markdown cell below, brainstorm 3 to 5 ideas you think would create value for you.\n",
    "\n",
    "Each brainstormed idea should state a. the suggested change or addition, b. what the expected value created, and c. which specific stakeholders would benefit.  If helpful, expand on the following template \"The course should (state idea here) because it will (state value created here) for (insert stakeholders here).\"\n",
    "\n",
    "Example A: \"The course should use only examples from psychology experiments because it will be more relevant for students who are psychology majors.\"\n",
    "\n",
    "Example B: \"The course should not have post-lesson questions because they are not useful for most students in the class.\""
   ]
  },
  {
   "cell_type": "markdown",
   "metadata": {},
   "source": [
    "### Part 1. Creative Ideation\n",
    "\n",
    "1. The course should use examples of function/application from social media because it would provide relevant examples for students who spend lots of time on social media.\n",
    "2. The course should set Tuesdays to be in-person, flipped classes because it would give ample time for lecture and QnA time during class for those who want synchronous interaction time with the professor.\n",
    "3. The course should bar incoming first-years because it would increase the student-to-instructor (ULAs and Kris Jordan) ratio and students would get more help time.\n",
    "4. The course should provide fill-in-the-blank note sheets because it would make note-taking more readily available for students who don't already take notes but may benefit from them.\n",
    "5. The course should have more content related to social issues because the it could better resonate with whatever students may be seeing on social media for hours and hours each day."
   ]
  },
  {
   "cell_type": "markdown",
   "metadata": {},
   "source": [
    "## Connecting with Available Data\n",
    "\n",
    "The data you have available for this analysis is limited to the anonymized course survey you and your peers filled out a few weeks ago. The data is found in the `survey.csv` file in this exercise directory. Each row represents an individual survey response. Each column has a description which can be found on the project write-up here: <https://22s.comp110.com/exercises/ex08.html>\n",
    "\n",
    "Review the list of available data and identify which one of your ideas _does not_, or is _least likely to_, have relevant data to support the analysis of your idea to create value. In the box below, identify which of your ideas lacks data and suggest how we might be able to collect this data in the future. One aspect of _continuous improvement_ is trying to avoid \"tunnel vision\" where possible improvements are not considered because there is no data available to analyze it. Identifying new data sources can unlock improvements!"
   ]
  },
  {
   "cell_type": "markdown",
   "metadata": {},
   "source": [
    "### Part 2. Identifying Missing Data\n",
    "\n",
    "1. Idea without sufficient data to analyze:\n",
    "    \"5. The course should have more content related to social issues because the it could better resonate with whatever students may be seeing on social media for hours and hours each day.\"\n",
    "2. Suggestion for how to collect data to support this idea in the future:\n",
    "    Ask about what social issues students want to explore and how those social issues intersect with computer science."
   ]
  },
  {
   "cell_type": "markdown",
   "metadata": {},
   "source": [
    "## Choosing an Idea to Analyze\n",
    "\n",
    "Consider those of your ideas which _do_ seem likely to have relevant data to analyze. If none of your ideas do, spend a few minutes and brainstorm another idea or two with the added connection of data available on hand and add those ideas to your brainstormed ideas list.\n",
    "\n",
    "Select the one idea which you believe is _most valuable_ to analyze relative to the others and has data to support the analysis of. In the markdown cell for Part 3 below, identify the idea you are exploring and articulate why you believe it is most valuable (e.g. widest impact, biggest opportunity for improvement, simplest change for significant improvement, and so on)."
   ]
  },
  {
   "cell_type": "markdown",
   "metadata": {},
   "source": [
    "### Part 3. Choosing Your Analysis\n",
    "\n",
    "1. Idea to analyze with available data:\n",
    "    \"2. The course should set Tuesdays to be in-person, synchronous, flipped classes because it would give ample time for lecture and QnA time during class.\"\n",
    "2. This idea is more valuable than the others brainstormed because: \n",
    "    Flipped classes are common on campus; changing this course to be a flipped class is a realistic idea to entertain and Kris Jordan may want to test to see if it makes instruction more effective."
   ]
  },
  {
   "cell_type": "markdown",
   "metadata": {},
   "source": [
    "## Your Analysis\n",
    "\n",
    "Before you begin analysis, a reminder that we do not expect the data to support everyone's ideas and you can complete this exercise for full credit even if the data does not clearly support your suggestion or even completely refutes it. What we are looking for is a logical attempt to explore the data using the techniques you have learned up until now in a way that _either_ supports, refutes, or does not have a clear result and then to reflect on your findings after the analysis.\n",
    "\n",
    "Using the utility functions you created for the previous exercise, you will continue with your analysis in the following part. Before you begin, refer to the rubric on the technical expectations of this section in the exercise write-up.\n",
    "\n",
    "In this section, you are expected to interleave code and markdown cells such that for each step of your analysis you are starting with an English description of what you are planning to do next in a markdown cell, followed by a Python cell that performs that step of the analysis."
   ]
  },
  {
   "cell_type": "markdown",
   "metadata": {},
   "source": [
    "### Part 4. Analysis\n",
    "\n",
    "We begin by changing some settings in the notebook to automatically reload changes to imported files."
   ]
  },
  {
   "cell_type": "code",
   "execution_count": 1,
   "metadata": {},
   "outputs": [],
   "source": [
    "%reload_ext autoreload\n",
    "%autoreload 2"
   ]
  },
  {
   "cell_type": "markdown",
   "metadata": {},
   "source": [
    "We continue by importing the helper functions from `data_utils`."
   ]
  },
  {
   "cell_type": "code",
   "execution_count": 2,
   "metadata": {},
   "outputs": [],
   "source": [
    "# TODO: You complete the code blocks from here forward!\n",
    "\n",
    "from data_utils import read_csv_rows, head, columnar, select, count, adding_counts"
   ]
  },
  {
   "cell_type": "markdown",
   "metadata": {},
   "source": [
    "Next, read in the data using `read_csv_rows` and establish the total number of columns."
   ]
  },
  {
   "cell_type": "code",
   "execution_count": 3,
   "metadata": {},
   "outputs": [
    {
     "name": "stdout",
     "output_type": "stream",
     "text": [
      "Data File Read: ../../data/survey.csv\n",
      "35 columns\n"
     ]
    }
   ],
   "source": [
    "SURVEY_DATA_CSV_FILE_PATH: str = \"../../data/survey.csv\"\n",
    "data_rows: list[dict[str, str]] = read_csv_rows(SURVEY_DATA_CSV_FILE_PATH)\n",
    "print(f\"Data File Read: {SURVEY_DATA_CSV_FILE_PATH}\")\n",
    "print(f\"{len(data_rows[0].keys())} columns\")"
   ]
  },
  {
   "cell_type": "markdown",
   "metadata": {},
   "source": [
    "Next, list the column categories alongside a preview of the first few rows in each column."
   ]
  },
  {
   "cell_type": "code",
   "execution_count": 4,
   "metadata": {},
   "outputs": [
    {
     "name": "stdout",
     "output_type": "stream",
     "text": [
      "Preview of each column: {'row': ['0', '1', '2', '3', '4'], 'year': ['22', '25', '25', '24', '25'], 'unc_status': ['Returning UNC Student', 'Returning UNC Student', 'Incoming First-year Student', 'Returning UNC Student', 'Incoming First-year Student'], 'comp_major': ['No', 'No', 'Yes - BA', 'Yes - BS', 'Yes - BA'], 'primary_major': ['Mathematics', 'Mathematics', 'Computer Science', 'Computer Science', 'Computer Science'], 'data_science': ['No', 'Yes', 'No', 'Maybe', 'No'], 'prereqs': ['MATH 233, MATH 347, MATH 381', 'MATH 130, MATH 231, STOR 155', 'MATH 130, MATH 152, MATH 210', 'MATH 231, MATH 232, STOR 155', 'MATH 130'], 'prior_exp': ['7-12 months', 'None to less than one month!', 'None to less than one month!', '2-6 months', 'None to less than one month!'], 'ap_principles': ['No', '', '', 'No', ''], 'ap_a': ['No', '', '', 'No', ''], 'other_comp': ['UNC', '', '', 'High school course (IB or other)', ''], 'prior_time': ['1 month or so', '', '', 'None to less than one month!', ''], 'languages': ['Python, R / Matlab / SAS', '', '', 'Python', ''], 'hours_online_social': ['3 to 5 hours', '0 to 2 hours', '3 to 5 hours', '3 to 5 hours', '0 to 2 hours'], 'hours_online_work': ['0 to 2 hours', '5 to 10 hours', '5 to 10 hours', '3 to 5 hours', '3 to 5 hours'], 'lesson_time': ['6', '4', '3', '5', '7'], 'sync_perf': ['2', '3', '3', '5', '3'], 'all_sync': ['2', '3', '4', '4', '3'], 'flipped_class': ['1', '1', '2', '3', '3'], 'no_hybrid': ['2', '2', '1', '3', '2'], 'own_notes': ['4', '6', '7', '6', '6'], 'own_examples': ['4', '4', '7', '5', '3'], 'oh_visits': ['0', '5', '2', '1', '5'], 'ls_effective': ['7', '5', '5', '6', '6'], 'lsqs_effective': ['3', '5', '6', '3', '6'], 'programming_effective': ['7', '5', '7', '5', '6'], 'qz_effective': ['5', '5', '7', '5', '6'], 'oh_effective': ['', '7', '4', '5', '7'], 'tutoring_effective': ['', '6', '', '4', '3'], 'pace': ['1', '6', '6', '4', '6'], 'difficulty': ['1', '6', '4', '4', '5'], 'understanding': ['7', '3', '6', '5', '5'], 'interesting': ['5', '4', '7', '6', '6'], 'valuable': ['6', '6', '7', '6', '6'], 'would_recommend': ['5', '4', '7', '6', '7']}\n"
     ]
    }
   ],
   "source": [
    "data_cols: dict[str, list[str]] = columnar(data_rows)\n",
    "data_cols_head: dict[str, list[str]] = head(data_cols, 5)\n",
    "print(f\"Preview of each column: {data_cols_head}\")"
   ]
  },
  {
   "cell_type": "markdown",
   "metadata": {},
   "source": [
    "Next, select the specific survey questions needed for analysis and print their data."
   ]
  },
  {
   "cell_type": "code",
   "execution_count": 5,
   "metadata": {},
   "outputs": [
    {
     "name": "stdout",
     "output_type": "stream",
     "text": [
      "Data of questions to analyze: {'lesson_time': ['6', '4', '3', '5', '7', '5', '5', '1', '1', '5', '2', '2', '3', '2', '2', '2', '1', '7', '4', '2', '6', '2', '5', '2', '7', '7', '6', '2', '4', '5', '5', '5', '6', '1', '4', '7', '5', '1', '2', '6', '5', '1', '1', '2', '5', '5', '2', '7', '3', '3', '3', '6', '7', '1', '1', '7', '1', '2', '2', '7', '1', '4', '5', '3', '4', '4', '2', '1', '5', '3', '7', '6', '2', '3', '1', '6', '3', '3', '1', '5', '3', '2', '4', '7', '4', '4', '1', '7', '1', '3', '2', '5', '7', '5', '6', '4', '6', '5', '3', '2', '5', '4', '1', '1', '2', '5', '3', '2', '1', '1', '7', '7', '1', '5', '1', '2', '1', '3', '7', '2', '7', '6', '3', '3', '1', '4', '1', '2', '1', '3', '5', '3', '3', '2', '5', '4', '2', '1', '4', '1', '4', '3', '7', '2', '2', '7', '7', '2', '2', '4', '6', '4', '7', '2', '6', '1', '3', '4', '2', '2', '2', '7', '3', '4', '5', '5', '1', '4', '7', '1', '3', '2', '5', '1', '2', '1', '7', '6', '4', '1', '1', '4', '1', '5', '6', '5', '4', '7', '1', '6', '3', '5', '3', '5', '2', '2', '5', '7', '5', '5', '5', '1', '6', '1', '6', '1', '3', '6', '3', '7', '2', '6', '1', '1', '5', '4', '4', '4', '6', '6', '7', '2', '1', '1', '1', '1', '1', '1', '2', '1', '2', '5', '3', '1', '6', '7', '2', '4', '2', '6', '4', '3', '2', '2', '4', '2', '4', '6', '6', '2', '2', '7', '2', '3', '2', '2', '5', '5', '7', '1', '1', '4', '6', '2', '7', '4', '3', '7', '7', '2', '1', '5', '2', '5', '2', '3', '2', '3', '1', '7', '3', '1', '1', '2', '4', '3', '1', '2', '1', '2', '2', '2', '4', '2', '5', '3', '6', '1', '1', '4', '1', '2', '3', '6', '1', '2', '1', '4', '1', '5', '5', '3', '3', '6', '1', '6', '7', '2', '2', '5', '2', '1', '3', '2', '2', '2', '4', '2', '4', '2', '6', '3', '3', '1', '7', '7', '6', '1', '2', '4', '5', '2', '1', '2', '5', '6', '5', '4', '2', '1', '1', '2', '1', '2', '5', '6', '6', '4', '4', '1', '3', '5', '5', '3', '1', '6', '2', '3', '6', '1', '3', '7', '3', '7', '7', '2', '1', '3', '1', '5', '3', '3', '6', '7', '4', '7', '5', '6', '1', '5', '6', '2', '3', '2', '2', '6', '3', '3', '2', '5', '7', '5', '6', '2', '5', '2', '3', '2', '6', '5', '5', '7', '2', '7', '1', '6', '5', '2', '5', '5', '7', '7', '5', '4', '3', '7', '1', '3', '5', '5', '3', '1', '2', '2', '5', '2', '1', '4', '1', '2', '2', '7', '3', '6', '1', '3', '1', '1', '1', '2', '1', '2', '6', '4', '4', '3', '1', '1', '1', '7', '3', '1', '1', '7', '1', '2', '2', '5', '4', '4', '7', '4', '2', '7', '1', '5', '1', '5', '2', '2', '2', '7', '1', '4', '1', '7', '7', '1', '1', '4', '3', '2', '1', '7', '2', '1', '3', '2', '1', '1', '5', '5', '1', '7', '6', '4', '7', '2', '3', '7', '1', '6', '4', '1', '7', '4', '5', '7', '2', '6', '7', '4', '3', '5', '2', '2', '3', '4', '4', '2', '3', '1', '7', '6', '4', '1', '1', '3', '4', '1', '6', '6', '5', '5', '1', '7', '2', '3', '2', '5', '2', '6', '1', '2', '1', '1', '4', '5', '5', '7', '5', '6', '2', '3', '1', '2', '2', '6', '1', '4', '2', '5', '5', '7', '5', '5', '5', '1', '7', '7', '5', '2', '7', '3', '5', '1', '7', '4', '1', '1', '5', '5', '2', '7', '2', '5', '1', '2', '5', '5', '5', '1', '2', '2', '6', '7', '2', '2', '1', '1', '2', '5', '2', '3', '6', '6', '3', '5', '7', '1'], 'flipped_class': ['1', '1', '2', '3', '3', '2', '5', '1', '6', '1', '7', '3', '4', '4', '3', '6', '1', '1', '6', '1', '1', '2', '1', '3', '7', '1', '1', '2', '1', '3', '2', '5', '2', '1', '2', '4', '6', '1', '6', '1', '4', '3', '1', '3', '5', '5', '1', '2', '2', '2', '2', '1', '2', '1', '3', '1', '1', '1', '6', '2', '1', '1', '3', '3', '7', '4', '4', '1', '1', '1', '1', '5', '1', '4', '2', '3', '1', '1', '2', '1', '1', '1', '3', '1', '1', '4', '4', '3', '1', '2', '2', '7', '3', '7', '7', '5', '1', '1', '3', '4', '7', '2', '7', '1', '2', '1', '1', '1', '3', '4', '1', '1', '1', '4', '3', '2', '2', '1', '4', '4', '3', '6', '2', '5', '1', '2', '2', '4', '6', '1', '5', '7', '3', '3', '1', '1', '2', '6', '3', '2', '1', '2', '3', '3', '4', '7', '2', '5', '2', '1', '2', '4', '1', '1', '1', '2', '1', '4', '2', '2', '7', '2', '1', '7', '5', '1', '1', '3', '5', '4', '1', '3', '1', '1', '4', '1', '1', '1', '5', '2', '1', '5', '1', '2', '1', '5', '5', '3', '3', '6', '5', '6', '5', '2', '3', '2', '4', '7', '2', '2', '3', '1', '3', '1', '5', '4', '4', '2', '5', '7', '4', '1', '1', '6', '2', '4', '6', '3', '2', '2', '4', '5', '2', '4', '1', '7', '7', '6', '1', '1', '7', '1', '4', '1', '1', '4', '5', '1', '1', '3', '4', '3', '3', '2', '2', '2', '3', '1', '3', '7', '3', '2', '2', '6', '5', '2', '1', '7', '7', '6', '1', '5', '6', '2', '5', '1', '5', '1', '3', '4', '2', '4', '2', '2', '1', '4', '5', '1', '3', '5', '7', '2', '3', '4', '2', '4', '2', '3', '4', '1', '5', '2', '2', '2', '2', '2', '3', '1', '1', '4', '1', '4', '2', '7', '1', '4', '4', '3', '4', '1', '3', '6', '3', '2', '1', '5', '5', '6', '1', '1', '3', '4', '4', '3', '5', '4', '2', '1', '1', '2', '6', '3', '4', '2', '2', '1', '2', '1', '5', '4', '4', '1', '5', '4', '5', '1', '2', '1', '2', '3', '5', '2', '2', '1', '4', '6', '2', '5', '3', '1', '4', '6', '1', '4', '7', '2', '7', '2', '4', '2', '2', '4', '3', '5', '2', '3', '2', '3', '1', '7', '5', '2', '4', '4', '1', '1', '4', '6', '3', '5', '1', '1', '2', '5', '2', '6', '7', '1', '1', '2', '2', '1', '1', '3', '3', '5', '5', '5', '3', '4', '3', '7', '5', '3', '7', '2', '2', '1', '1', '2', '4', '4', '4', '4', '4', '3', '2', '3', '1', '1', '3', '2', '1', '3', '4', '7', '1', '3', '5', '2', '3', '1', '2', '1', '2', '5', '1', '1', '1', '5', '2', '2', '4', '6', '1', '3', '1', '1', '2', '1', '2', '4', '6', '3', '2', '5', '6', '1', '7', '2', '1', '1', '4', '1', '5', '2', '5', '1', '3', '1', '4', '4', '1', '6', '4', '2', '1', '3', '1', '2', '3', '4', '1', '5', '1', '1', '3', '1', '7', '1', '6', '3', '4', '1', '4', '4', '7', '1', '3', '7', '4', '3', '1', '2', '1', '4', '3', '3', '2', '1', '3', '3', '2', '1', '3', '3', '5', '3', '2', '5', '1', '1', '6', '1', '3', '1', '2', '1', '3', '3', '1', '3', '2', '1', '5', '1', '2', '3', '2', '6', '5', '2', '2', '1', '2', '1', '4', '7', '5', '3', '2', '6', '1', '3', '5', '1', '6', '1', '7', '1', '2', '2', '1', '2', '2', '1', '1', '6', '3', '4', '2', '3', '4', '1', '7', '3', '4', '4', '2', '6', '1', '1', '2', '5', '2', '2', '6', '3', '1', '3', '5', '1', '5', '6', '6', '2', '3', '5', '1', '1', '2', '2', '4', '4', '4', '7', '6', '1', '1', '7'], 'sync_perf': ['2', '3', '3', '5', '3', '2', '3', '2', '5', '2', '4', '2', '5', '2', '6', '2', '4', '1', '5', '1', '1', '3', '1', '3', '7', '1', '4', '2', '1', '5', '2', '5', '3', '1', '4', '4', '7', '1', '7', '3', '1', '1', '2', '3', '3', '6', '1', '4', '2', '2', '4', '1', '4', '1', '4', '1', '1', '4', '4', '2', '3', '1', '1', '3', '1', '4', '5', '2', '2', '5', '1', '4', '1', '4', '3', '1', '1', '7', '3', '1', '2', '2', '2', '1', '1', '3', '3', '1', '1', '2', '7', '7', '2', '7', '7', '3', '4', '1', '3', '4', '6', '3', '7', '3', '3', '1', '1', '2', '2', '7', '2', '2', '1', '7', '2', '4', '2', '1', '1', '2', '3', '7', '1', '4', '1', '2', '5', '4', '2', '7', '2', '7', '2', '1', '4', '1', '1', '7', '2', '4', '3', '1', '3', '2', '4', '1', '4', '2', '2', '4', '5', '4', '1', '2', '1', '4', '4', '2', '2', '1', '1', '3', '1', '2', '3', '2', '1', '3', '5', '1', '3', '3', '1', '1', '6', '2', '1', '3', '2', '2', '1', '1', '1', '4', '2', '5', '5', '1', '1', '6', '3', '6', '6', '1', '1', '3', '4', '7', '3', '3', '5', '4', '5', '1', '2', '1', '6', '3', '2', '4', '2', '2', '1', '1', '4', '4', '3', '2', '3', '5', '1', '2', '7', '1', '2', '7', '7', '6', '1', '1', '4', '6', '1', '1', '1', '1', '3', '1', '3', '2', '4', '2', '2', '3', '3', '3', '3', '1', '2', '7', '2', '4', '1', '2', '7', '1', '4', '7', '1', '2', '1', '2', '4', '7', '4', '5', '6', '2', '4', '7', '4', '3', '3', '2', '2', '4', '3', '1', '2', '6', '5', '2', '4', '2', '2', '1', '1', '2', '2', '1', '2', '3', '3', '2', '2', '2', '2', '1', '1', '4', '2', '4', '2', '4', '2', '3', '1', '2', '1', '1', '4', '4', '2', '2', '5', '2', '3', '7', '4', '3', '7', '1', '6', '1', '2', '3', '7', '3', '1', '2', '2', '7', '1', '7', '4', '2', '4', '2', '2', '4', '6', '3', '5', '2', '7', '1', '2', '2', '4', '2', '3', '4', '1', '2', '1', '2', '1', '7', '3', '4', '3', '3', '3', '3', '4', '2', '1', '4', '4', '4', '2', '2', '4', '5', '5', '1', '2', '2', '1', '7', '4', '3', '3', '2', '1', '3', '4', '6', '7', '1', '1', '6', '2', '3', '2', '6', '4', '7', '7', '3', '4', '2', '2', '3', '1', '3', '1', '5', '4', '3', '1', '7', '5', '5', '1', '3', '4', '1', '2', '3', '3', '4', '2', '4', '3', '3', '2', '4', '1', '3', '1', '2', '1', '3', '5', '7', '4', '4', '6', '2', '2', '4', '4', '3', '2', '6', '1', '2', '2', '2', '2', '2', '5', '5', '3', '5', '4', '3', '1', '3', '1', '7', '6', '4', '2', '2', '2', '2', '7', '1', '1', '7', '6', '2', '6', '4', '2', '1', '1', '1', '2', '3', '2', '1', '5', '3', '3', '2', '1', '4', '2', '2', '1', '2', '1', '1', '2', '1', '3', '1', '2', '6', '1', '4', '7', '3', '7', '2', '4', '7', '1', '1', '4', '2', '3', '6', '2', '5', '5', '2', '2', '4', '6', '1', '3', '3', '7', '4', '1', '2', '1', '1', '4', '4', '1', '7', '4', '1', '1', '2', '4', '5', '2', '2', '7', '2', '2', '4', '2', '6', '3', '2', '2', '1', '5', '6', '4', '7', '2', '1', '4', '7', '4', '2', '1', '1', '1', '1', '5', '2', '5', '1', '1', '1', '2', '1', '1', '7', '4', '5', '5', '3', '4', '4', '3', '1', '4', '4', '1', '3', '1', '1', '5', '2', '2', '4', '4', '5', '1', '4', '6', '1', '4', '2', '2', '4', '3', '5', '2', '1', '3', '3', '2', '2', '4', '6', '5', '7', '2', '7'], 'all_sync': ['2', '3', '4', '4', '3', '2', '3', '2', '4', '2', '3', '2', '3', '2', '5', '1', '2', '1', '5', '1', '1', '2', '1', '4', '4', '1', '1', '2', '1', '5', '2', '5', '4', '1', '4', '4', '7', '1', '5', '3', '1', '1', '2', '2', '3', '6', '1', '3', '1', '2', '2', '1', '3', '1', '3', '1', '1', '4', '2', '1', '3', '1', '1', '1', '1', '4', '5', '2', '7', '3', '1', '4', '1', '6', '2', '2', '1', '5', '2', '1', '2', '1', '1', '1', '1', '2', '2', '1', '1', '2', '7', '7', '2', '7', '7', '2', '4', '2', '4', '4', '6', '2', '7', '3', '1', '1', '1', '1', '2', '7', '2', '2', '1', '6', '2', '5', '1', '1', '1', '1', '3', '7', '2', '3', '1', '1', '5', '4', '1', '3', '1', '7', '2', '2', '1', '1', '1', '6', '2', '3', '4', '1', '4', '2', '3', '2', '2', '2', '2', '4', '3', '4', '1', '1', '1', '2', '2', '3', '2', '1', '2', '3', '1', '2', '3', '2', '1', '3', '5', '1', '2', '3', '1', '1', '5', '2', '1', '3', '4', '1', '1', '1', '1', '5', '3', '5', '5', '1', '1', '7', '5', '6', '5', '1', '1', '3', '1', '7', '3', '4', '4', '2', '6', '1', '2', '1', '5', '2', '2', '5', '2', '2', '1', '1', '4', '4', '5', '2', '2', '4', '1', '3', '7', '1', '1', '7', '7', '5', '1', '1', '2', '1', '1', '1', '1', '1', '3', '1', '4', '2', '4', '1', '2', '1', '3', '3', '1', '1', '3', '7', '2', '5', '1', '4', '7', '1', '3', '7', '3', '4', '1', '5', '6', '7', '4', '2', '6', '1', '2', '6', '2', '2', '1', '1', '2', '3', '4', '1', '2', '6', '4', '1', '4', '2', '2', '1', '1', '2', '4', '1', '2', '3', '1', '2', '2', '2', '2', '1', '1', '4', '1', '4', '1', '6', '1', '2', '1', '2', '1', '1', '4', '5', '2', '1', '1', '2', '2', '6', '4', '1', '7', '3', '6', '1', '2', '2', '7', '2', '1', '1', '1', '7', '2', '5', '5', '1', '5', '1', '2', '4', '4', '3', '7', '1', '7', '1', '2', '2', '3', '2', '3', '2', '1', '1', '1', '6', '1', '7', '1', '2', '4', '3', '2', '3', '1', '2', '1', '1', '3', '5', '2', '2', '4', '5', '6', '1', '2', '3', '1', '7', '4', '2', '5', '1', '1', '2', '3', '6', '5', '1', '1', '4', '2', '2', '2', '6', '4', '2', '4', '2', '4', '1', '3', '4', '1', '4', '1', '2', '4', '3', '1', '7', '4', '5', '1', '1', '2', '1', '2', '2', '4', '4', '2', '4', '2', '3', '2', '4', '1', '4', '1', '2', '1', '3', '6', '6', '4', '4', '5', '1', '2', '4', '1', '2', '2', '4', '1', '2', '2', '2', '2', '1', '3', '7', '1', '4', '1', '4', '1', '3', '1', '3', '2', '3', '2', '2', '3', '2', '7', '1', '1', '7', '6', '2', '4', '5', '2', '1', '1', '1', '1', '4', '2', '1', '6', '2', '4', '2', '1', '3', '2', '3', '1', '2', '1', '1', '4', '1', '3', '1', '1', '6', '2', '3', '4', '2', '7', '2', '2', '7', '1', '1', '4', '2', '2', '5', '2', '5', '4', '2', '2', '3', '4', '1', '1', '3', '5', '4', '1', '2', '1', '1', '3', '3', '1', '7', '5', '1', '1', '2', '1', '4', '2', '1', '5', '2', '2', '4', '2', '6', '5', '3', '4', '1', '3', '7', '4', '4', '2', '1', '2', '7', '3', '1', '1', '1', '1', '1', '3', '1', '7', '1', '1', '1', '2', '1', '1', '7', '4', '2', '3', '3', '4', '4', '5', '1', '4', '4', '1', '2', '1', '1', '5', '2', '1', '3', '2', '4', '1', '2', '5', '1', '3', '2', '1', '5', '2', '5', '2', '1', '1', '4', '2', '1', '4', '6', '4', '7', '2', '7']}\n"
     ]
    }
   ],
   "source": [
    "data_cols: dict[str, list[str]] = columnar(data_rows)\n",
    "selected_data: dict[str, list[str]] = select(data_cols, [\"lesson_time\", \"flipped_class\", \"sync_perf\", \"all_sync\"])\n",
    "print(f\"Data of questions to analyze: {selected_data}\")"
   ]
  },
  {
   "cell_type": "markdown",
   "metadata": {},
   "source": [
    "Next, print out the counts of each type of survey response in this column."
   ]
  },
  {
   "cell_type": "code",
   "execution_count": 6,
   "metadata": {},
   "outputs": [
    {
     "name": "stdout",
     "output_type": "stream",
     "text": [
      "Student completes each lecture’s lessons during the hours of the day registered for the course. Possible values (1 being Never and 7 being Always): 1, 2, 3, 4, 5, 6, 7: {'6': 59, '4': 64, '3': 74, '5': 93, '7': 75, '1': 126, '2': 129}\n",
      "If Tuesdays also became required in-person synchronous days, student would be willing to watch videos and complete lessons as homework over the weekend and Mondays to prepare for Tuesday lectures. Possible values (1 being Strongly Disagree and 7 being Strongly Agree): 1, 2, 3, 4, 5, 6, 7: {'1': 177, '2': 127, '3': 95, '5': 61, '6': 39, '7': 38, '4': 83}\n",
      "Student’s performance in this course would improve if every lecture were synchronous with required attendance during the regularly scheduled meeting time. Possible values (1 being Strongly Disagree and 7 being Strongly Agree): 1, 2, 3, 4, 5, 6, 7: {'2': 154, '3': 94, '5': 42, '4': 101, '6': 29, '1': 149, '7': 51}\n",
      "Student would prefer this course to require every lecture be synchronous with required attendance during the regularly scheduled meeting time. Possible values (1 being Strongly Disagree and 7 being Strongly Agree): 1, 2, 3, 4, 5, 6, 7: {'2': 155, '3': 71, '4': 85, '5': 44, '1': 201, '7': 39, '6': 25}\n"
     ]
    }
   ],
   "source": [
    "lt_counts: dict[str, int] = count(selected_data[\"lesson_time\"])\n",
    "print(f\"Student completes each lecture’s lessons during the hours of the day registered for the course. Possible values (1 being Never and 7 being Always): 1, 2, 3, 4, 5, 6, 7: {lt_counts}\")\n",
    "fc_counts: dict[str, int] = count(selected_data[\"flipped_class\"])\n",
    "print(f\"If Tuesdays also became required in-person synchronous days, student would be willing to watch videos and complete lessons as homework over the weekend and Mondays to prepare for Tuesday lectures. Possible values (1 being Strongly Disagree and 7 being Strongly Agree): 1, 2, 3, 4, 5, 6, 7: {fc_counts}\")\n",
    "sp_counts: dict[str, int] = count(selected_data[\"sync_perf\"])\n",
    "print(f\"Student’s performance in this course would improve if every lecture were synchronous with required attendance during the regularly scheduled meeting time. Possible values (1 being Strongly Disagree and 7 being Strongly Agree): 1, 2, 3, 4, 5, 6, 7: {sp_counts}\")\n",
    "as_counts: dict[str, int] = count(selected_data[\"all_sync\"])\n",
    "print(f\"Student would prefer this course to require every lecture be synchronous with required attendance during the regularly scheduled meeting time. Possible values (1 being Strongly Disagree and 7 being Strongly Agree): 1, 2, 3, 4, 5, 6, 7: {as_counts}\")"
   ]
  },
  {
   "cell_type": "markdown",
   "metadata": {},
   "source": [
    "Next, for each question, find the total number of those with favorable opinions (5-7) on synchronous instruction and calculate percentages out of all responses."
   ]
  },
  {
   "cell_type": "code",
   "execution_count": 7,
   "metadata": {},
   "outputs": [
    {
     "name": "stdout",
     "output_type": "stream",
     "text": [
      "620 total survey responses\n",
      "Student completes each lecture’s lessons during the hours of the day registered for the course: 227/620 = 36.612903225806456%\n",
      "Student would be willing to watch videos and complete lessons as homework over the weekend and Mondays to prepare for Tuesday lectures: 138/620 = 22.258064516129032%\n",
      "Student’s performance in this course would improve if every lecture were synchronous with required attendance during the regularly scheduled meeting time: 122/620 = 19.67741935483871%\n",
      "Student would prefer this course to require every lecture be synchronous with required attendance during the regularly scheduled meeting time: 108/620 = 17.419354838709676%\n"
     ]
    }
   ],
   "source": [
    "print(f\"{len(data_rows)} total survey responses\")\n",
    "lt_favorable = adding_counts(lt_counts)\n",
    "lt_percentage: float = 100 * (lt_favorable / len(data_rows))\n",
    "print(f\"Student completes each lecture’s lessons during the hours of the day registered for the course: {lt_favorable}/{len(data_rows)} = {lt_percentage}%\")\n",
    "fc_favorable = adding_counts(fc_counts)\n",
    "fc_percentage: float = 100 * (fc_favorable / len(data_rows))\n",
    "print(f\"Student would be willing to watch videos and complete lessons as homework over the weekend and Mondays to prepare for Tuesday lectures: {fc_favorable}/{len(data_rows)} = {fc_percentage}%\")\n",
    "sp_favorable = adding_counts(sp_counts)\n",
    "sp_percentage: float = 100 * (sp_favorable / len(data_rows))\n",
    "print(f\"Student’s performance in this course would improve if every lecture were synchronous with required attendance during the regularly scheduled meeting time: {sp_favorable}/{len(data_rows)} = {sp_percentage}%\")\n",
    "as_favorable = adding_counts(as_counts)\n",
    "as_percentage: float = 100 * (as_favorable / len(data_rows))\n",
    "print(f\"Student would prefer this course to require every lecture be synchronous with required attendance during the regularly scheduled meeting time: {as_favorable}/{len(data_rows)} = {as_percentage}%\")"
   ]
  },
  {
   "cell_type": "markdown",
   "metadata": {},
   "source": [
    "Finally, plot the results in a chart!"
   ]
  },
  {
   "cell_type": "code",
   "execution_count": 8,
   "metadata": {},
   "outputs": [
    {
     "data": {
      "text/plain": [
       "<BarContainer object of 4 artists>"
      ]
     },
     "execution_count": 8,
     "metadata": {},
     "output_type": "execute_result"
    },
    {
     "data": {
      "image/png": "[encoded data removed]",
      "text/plain": [
       "<Figure size 432x288 with 1 Axes>"
      ]
     },
     "metadata": {
      "needs_background": "light"
     },
     "output_type": "display_data"
    }
   ],
   "source": [
    "from matplotlib import pyplot\n",
    "\n",
    "data_in_a_dict = {\"lesson_time\": lt_favorable, \"flipped_class\": fc_favorable, \"sync_perf\": sp_favorable, \"all_sync\": as_favorable}\n",
    "pyplot.title(\"Would students be in favor for in-person, flipped classes on Tuesdays?\")\n",
    "pyplot.xlabel(\"In-person, synchronous, and flipped class styles\")\n",
    "pyplot.ylabel(\"Number of students in favor; 620 total survey responses\")\n",
    "labels: list[str] = list(data_in_a_dict.keys())\n",
    "values: list[int] = list(data_in_a_dict.values())\n",
    "pyplot.bar(labels, values)"
   ]
  },
  {
   "cell_type": "markdown",
   "metadata": {},
   "source": [
    "## Conclusion\n",
    "\n",
    "In the following markdown cell, write a reflective conclusion given the analysis you performed and identify recommendations.\n",
    "\n",
    "If your analysis of the data supports your idea, state your recommendation for the change and summarize the data analysys results you found which support it. Additionally, describe any extensions or refinements to this idea which might be explored further. Finally, discuss the potential costs, trade-offs, or stakeholders who may be negatively impacted by this proposed change.\n",
    "\n",
    "If your analysis of the data is inconclusive, summarize why your data analysis results were inconclusive in the support of your idea. Additionally, describe what experimental idea implementation or additional data collection might help build more confidence in assessing your idea. Finally, discuss the potential costs, trade-offs, or stakeholders who may be negatively impacted by experimenting with your idea.\n",
    "\n",
    "Finally, if your analysis of the data does not support it, summarize your data analysis results and why it refutes your idea. Discuss the potential costs, trade-offs, or stakeholders who may be negatively impacted by this proposed change. If you disagree with the validity of the findings, describe why your idea still makes sense to implement and what alternative data would better support it. If you agree with the validity of the data analysis, describe what alternate ideas or extensions you would explore instead. "
   ]
  },
  {
   "cell_type": "markdown",
   "metadata": {},
   "source": [
    "### Part 5. Conclusion\n",
    "\n",
    "I sought to explore this hypothesis: \"The course should set Tuesdays to be in-person, flipped classes because it would give ample time for lecture and QnA time during class for those who want synchronous interaction time with the professor.\" The survey question asked if students strongly agree (7), strongly disagree (1), or somewhere in between, that this style of Tuesday classes would be ideal. Using these discrete response values, I calculated the amount of respondents who had favorable opinions on synchronous classes.\n",
    "\n",
    "Only approx. 37% of students complete their coursework during the hours of the day registered for the course\n",
    "\n",
    "22% of students would be willing to do coursework on weekends and Mondays to prepare for Tuesday lectures\n",
    "\n",
    "20% would **benefit** from synchronous lectures with required attendance during scheduled meeting time, and 17% **prefer** this.\n",
    "\n",
    "Seeing how the favorable populations yield less than 50% for each question, changing Tuesdays to be in-person and flipped class style would not improve the course. Most students would not be adapted to synchronous demands and would not appreciate working outside the classroom during weekends and Mondays. Additionally, in \"flipping\" the class style Kris Jordan would also have to re-map coursework and assignment deadlines.\n",
    "\n",
    "For future consideration, I would explore favorability for making Tuesdays in-person or synchronous, but not flipped class style. This would make Tuesdays the same as Thursdays for lectures. I would also explore the possibility of switching Tuesday and Thursday's in-person/sync vs. online/async styles."
   ]
  }
 ],
 "metadata": {
  "interpreter": {
   "hash": "aee8b7b246df8f9039afb4144a1f6fd8d2ca17a180786b69acc140d282b71a49"
  },
  "kernelspec": {
   "display_name": "Python 3.10.2 64-bit",
   "language": "python",
   "name": "python3"
  },
  "language_info": {
   "codemirror_mode": {
    "name": "ipython",
    "version": 3
   },
   "file_extension": ".py",
   "mimetype": "text/x-python",
   "name": "python",
   "nbconvert_exporter": "python",
   "pygments_lexer": "ipython3",
   "version": "3.10.1"
  },
  "orig_nbformat": 4
 },
 "nbformat": 4,
 "nbformat_minor": 2
}
